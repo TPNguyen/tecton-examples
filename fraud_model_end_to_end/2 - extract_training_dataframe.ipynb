{
 "cells": [
  {
   "cell_type": "markdown",
   "metadata": {
    "application/vnd.databricks.v1+cell": {
     "inputWidgets": {},
     "nuid": "f038b009-30a6-4e69-8344-c1228bf453de",
     "showTitle": false,
     "title": ""
    }
   },
   "source": [
    "<img style=\"float: right;\" src=\"https://2b838p24nks2163of0383y6z-wpengine.netdna-ssl.com/wp-content/uploads/2020/03/wordmark.png\" width=\"10%\"/>\n",
    "\n",
    "# Building a Fraud Detection Model\n",
    "\n",
    "Tecton is powered by Spark to make it easy to do complex transformations with your data and layer in real-time data from your Kafka and Kinesis streams. When extracting a training dataset, this is the only step that needs to be done within a Spark environment, like Databricks or AWS EMR."
   ]
  },
  {
   "cell_type": "code",
   "execution_count": null,
   "metadata": {
    "application/vnd.databricks.v1+cell": {
     "inputWidgets": {},
     "nuid": "5fc31d2c-5385-4a47-bf6e-22ba4031037a",
     "showTitle": false,
     "title": ""
    }
   },
   "outputs": [
    {
     "data": {
      "text/html": [
       "<style scoped>\n",
       "  .ansiout {\n",
       "    display: block;\n",
       "    unicode-bidi: embed;\n",
       "    white-space: pre-wrap;\n",
       "    word-wrap: break-word;\n",
       "    word-break: break-all;\n",
       "    font-family: \"Source Code Pro\", \"Menlo\", monospace;;\n",
       "    font-size: 13px;\n",
       "    color: #555;\n",
       "    margin-left: 4px;\n",
       "    line-height: 19px;\n",
       "  }\n",
       "</style>\n",
       "<div class=\"ansiout\"></div>"
      ]
     },
     "metadata": {
      "application/vnd.databricks.v1+output": {
       "addedWidgets": {},
       "arguments": {},
       "data": "<div class=\"ansiout\"></div>",
       "datasetInfos": [],
       "removedWidgets": [],
       "type": "html"
      }
     },
     "output_type": "display_data"
    }
   ],
   "source": [
    "import tecton"
   ]
  },
  {
   "cell_type": "markdown",
   "metadata": {
    "application/vnd.databricks.v1+cell": {
     "inputWidgets": {},
     "nuid": "e47def0c-b8f9-4a0d-9457-6193bc07076d",
     "showTitle": false,
     "title": ""
    }
   },
   "source": [
    "## Preview Materialized Features\n",
    "\n",
    "Let's take a look at what kind of data on our users we've got stored in Tecton"
   ]
  },
  {
   "cell_type": "code",
   "execution_count": null,
   "metadata": {
    "application/vnd.databricks.v1+cell": {
     "inputWidgets": {},
     "nuid": "869ecfda-79d1-4145-9b12-4cfaed960a91",
     "showTitle": false,
     "title": ""
    }
   },
   "outputs": [
    {
     "data": {
      "text/html": [
       "<style scoped>\n",
       "  .ansiout {\n",
       "    display: block;\n",
       "    unicode-bidi: embed;\n",
       "    white-space: pre-wrap;\n",
       "    word-wrap: break-word;\n",
       "    word-break: break-all;\n",
       "    font-family: \"Source Code Pro\", \"Menlo\", monospace;;\n",
       "    font-size: 13px;\n",
       "    color: #555;\n",
       "    margin-left: 4px;\n",
       "    line-height: 19px;\n",
       "  }\n",
       "</style>\n",
       "<div class=\"ansiout\"></div>"
      ]
     },
     "metadata": {
      "application/vnd.databricks.v1+output": {
       "addedWidgets": {},
       "arguments": {},
       "data": "<div class=\"ansiout\"></div>",
       "datasetInfos": [],
       "removedWidgets": [],
       "type": "html"
      }
     },
     "output_type": "display_data"
    }
   ],
   "source": [
    "# Tecton allows you to have multiple workspaces to segregate production from testing workspaces. Here we'll use production.\n",
    "ws = tecton.get_workspace('prod')"
   ]
  },
  {
   "cell_type": "code",
   "execution_count": null,
   "metadata": {
    "application/vnd.databricks.v1+cell": {
     "inputWidgets": {},
     "nuid": "29a4e172-8686-494f-b90f-7558484707a2",
     "showTitle": false,
     "title": ""
    }
   },
   "outputs": [
    {
     "data": {
      "text/html": [
       "<div>\n",
       "<style scoped>\n",
       "    .dataframe tbody tr th:only-of-type {\n",
       "        vertical-align: middle;\n",
       "    }\n",
       "\n",
       "    .dataframe tbody tr th {\n",
       "        vertical-align: top;\n",
       "    }\n",
       "\n",
       "    .dataframe thead th {\n",
       "        text-align: right;\n",
       "    }\n",
       "</style>\n",
       "<table border=\"1\" class=\"dataframe\">\n",
       "  <thead>\n",
       "    <tr style=\"text-align: right;\">\n",
       "      <th></th>\n",
       "      <th>user_id</th>\n",
       "      <th>timestamp</th>\n",
       "      <th>days_since_last</th>\n",
       "    </tr>\n",
       "  </thead>\n",
       "  <tbody>\n",
       "    <tr>\n",
       "      <th>0</th>\n",
       "      <td>C811470007</td>\n",
       "      <td>2021-01-24</td>\n",
       "      <td>38</td>\n",
       "    </tr>\n",
       "    <tr>\n",
       "      <th>1</th>\n",
       "      <td>C1818605013</td>\n",
       "      <td>2021-01-24</td>\n",
       "      <td>26</td>\n",
       "    </tr>\n",
       "    <tr>\n",
       "      <th>2</th>\n",
       "      <td>C845012068</td>\n",
       "      <td>2021-01-24</td>\n",
       "      <td>30</td>\n",
       "    </tr>\n",
       "    <tr>\n",
       "      <th>3</th>\n",
       "      <td>C1151762682</td>\n",
       "      <td>2021-01-24</td>\n",
       "      <td>30</td>\n",
       "    </tr>\n",
       "    <tr>\n",
       "      <th>4</th>\n",
       "      <td>C1262770201</td>\n",
       "      <td>2021-01-24</td>\n",
       "      <td>32</td>\n",
       "    </tr>\n",
       "    <tr>\n",
       "      <th>5</th>\n",
       "      <td>C820284643</td>\n",
       "      <td>2021-01-24</td>\n",
       "      <td>26</td>\n",
       "    </tr>\n",
       "    <tr>\n",
       "      <th>6</th>\n",
       "      <td>C2121633740</td>\n",
       "      <td>2021-01-24</td>\n",
       "      <td>32</td>\n",
       "    </tr>\n",
       "    <tr>\n",
       "      <th>7</th>\n",
       "      <td>C827961951</td>\n",
       "      <td>2021-01-24</td>\n",
       "      <td>38</td>\n",
       "    </tr>\n",
       "    <tr>\n",
       "      <th>8</th>\n",
       "      <td>C744373600</td>\n",
       "      <td>2021-01-24</td>\n",
       "      <td>26</td>\n",
       "    </tr>\n",
       "    <tr>\n",
       "      <th>9</th>\n",
       "      <td>C360031322</td>\n",
       "      <td>2021-01-24</td>\n",
       "      <td>38</td>\n",
       "    </tr>\n",
       "  </tbody>\n",
       "</table>\n",
       "</div>"
      ]
     },
     "metadata": {
      "application/vnd.databricks.v1+output": {
       "addedWidgets": {},
       "arguments": {},
       "data": "<div>\n<style scoped>\n    .dataframe tbody tr th:only-of-type {\n        vertical-align: middle;\n    }\n\n    .dataframe tbody tr th {\n        vertical-align: top;\n    }\n\n    .dataframe thead th {\n        text-align: right;\n    }\n</style>\n<table border=\"1\" class=\"dataframe\">\n  <thead>\n    <tr style=\"text-align: right;\">\n      <th></th>\n      <th>user_id</th>\n      <th>timestamp</th>\n      <th>days_since_last</th>\n    </tr>\n  </thead>\n  <tbody>\n    <tr>\n      <th>0</th>\n      <td>C811470007</td>\n      <td>2021-01-24</td>\n      <td>38</td>\n    </tr>\n    <tr>\n      <th>1</th>\n      <td>C1818605013</td>\n      <td>2021-01-24</td>\n      <td>26</td>\n    </tr>\n    <tr>\n      <th>2</th>\n      <td>C845012068</td>\n      <td>2021-01-24</td>\n      <td>30</td>\n    </tr>\n    <tr>\n      <th>3</th>\n      <td>C1151762682</td>\n      <td>2021-01-24</td>\n      <td>30</td>\n    </tr>\n    <tr>\n      <th>4</th>\n      <td>C1262770201</td>\n      <td>2021-01-24</td>\n      <td>32</td>\n    </tr>\n    <tr>\n      <th>5</th>\n      <td>C820284643</td>\n      <td>2021-01-24</td>\n      <td>26</td>\n    </tr>\n    <tr>\n      <th>6</th>\n      <td>C2121633740</td>\n      <td>2021-01-24</td>\n      <td>32</td>\n    </tr>\n    <tr>\n      <th>7</th>\n      <td>C827961951</td>\n      <td>2021-01-24</td>\n      <td>38</td>\n    </tr>\n    <tr>\n      <th>8</th>\n      <td>C744373600</td>\n      <td>2021-01-24</td>\n      <td>26</td>\n    </tr>\n    <tr>\n      <th>9</th>\n      <td>C360031322</td>\n      <td>2021-01-24</td>\n      <td>38</td>\n    </tr>\n  </tbody>\n</table>\n</div>",
       "datasetInfos": [],
       "removedWidgets": [],
       "textData": "<div class=\"ansiout\">Out[81]: </div>",
       "type": "htmlSandbox"
      }
     },
     "output_type": "display_data"
    }
   ],
   "source": [
    "ws.get_feature_package('days_since_last_transaction').preview()"
   ]
  },
  {
   "cell_type": "code",
   "execution_count": null,
   "metadata": {
    "application/vnd.databricks.v1+cell": {
     "inputWidgets": {},
     "nuid": "ef7130b5-0193-47c4-afb9-2c3e788924a2",
     "showTitle": false,
     "title": ""
    }
   },
   "outputs": [
    {
     "data": {
      "text/html": [
       "<div>\n",
       "<style scoped>\n",
       "    .dataframe tbody tr th:only-of-type {\n",
       "        vertical-align: middle;\n",
       "    }\n",
       "\n",
       "    .dataframe tbody tr th {\n",
       "        vertical-align: top;\n",
       "    }\n",
       "\n",
       "    .dataframe thead th {\n",
       "        text-align: right;\n",
       "    }\n",
       "</style>\n",
       "<table border=\"1\" class=\"dataframe\">\n",
       "  <thead>\n",
       "    <tr style=\"text-align: right;\">\n",
       "      <th></th>\n",
       "      <th>user_id</th>\n",
       "      <th>timestamp</th>\n",
       "      <th>age</th>\n",
       "    </tr>\n",
       "  </thead>\n",
       "  <tbody>\n",
       "    <tr>\n",
       "      <th>0</th>\n",
       "      <td>C1305004711</td>\n",
       "      <td>2021-01-03</td>\n",
       "      <td>14070</td>\n",
       "    </tr>\n",
       "    <tr>\n",
       "      <th>1</th>\n",
       "      <td>C1016856028</td>\n",
       "      <td>2021-01-03</td>\n",
       "      <td>7192</td>\n",
       "    </tr>\n",
       "    <tr>\n",
       "      <th>2</th>\n",
       "      <td>C1215951090</td>\n",
       "      <td>2021-01-03</td>\n",
       "      <td>7767</td>\n",
       "    </tr>\n",
       "    <tr>\n",
       "      <th>3</th>\n",
       "      <td>C32393008</td>\n",
       "      <td>2021-01-03</td>\n",
       "      <td>8207</td>\n",
       "    </tr>\n",
       "    <tr>\n",
       "      <th>4</th>\n",
       "      <td>C1298380324</td>\n",
       "      <td>2021-01-03</td>\n",
       "      <td>14124</td>\n",
       "    </tr>\n",
       "    <tr>\n",
       "      <th>5</th>\n",
       "      <td>C577245010</td>\n",
       "      <td>2021-01-03</td>\n",
       "      <td>14910</td>\n",
       "    </tr>\n",
       "    <tr>\n",
       "      <th>6</th>\n",
       "      <td>C2028036437</td>\n",
       "      <td>2021-01-03</td>\n",
       "      <td>8665</td>\n",
       "    </tr>\n",
       "    <tr>\n",
       "      <th>7</th>\n",
       "      <td>C1298557761</td>\n",
       "      <td>2021-01-03</td>\n",
       "      <td>10694</td>\n",
       "    </tr>\n",
       "    <tr>\n",
       "      <th>8</th>\n",
       "      <td>C684230144</td>\n",
       "      <td>2021-01-03</td>\n",
       "      <td>14860</td>\n",
       "    </tr>\n",
       "    <tr>\n",
       "      <th>9</th>\n",
       "      <td>C990684641</td>\n",
       "      <td>2021-01-03</td>\n",
       "      <td>13035</td>\n",
       "    </tr>\n",
       "  </tbody>\n",
       "</table>\n",
       "</div>"
      ]
     },
     "metadata": {
      "application/vnd.databricks.v1+output": {
       "addedWidgets": {},
       "arguments": {},
       "data": "<div>\n<style scoped>\n    .dataframe tbody tr th:only-of-type {\n        vertical-align: middle;\n    }\n\n    .dataframe tbody tr th {\n        vertical-align: top;\n    }\n\n    .dataframe thead th {\n        text-align: right;\n    }\n</style>\n<table border=\"1\" class=\"dataframe\">\n  <thead>\n    <tr style=\"text-align: right;\">\n      <th></th>\n      <th>user_id</th>\n      <th>timestamp</th>\n      <th>age</th>\n    </tr>\n  </thead>\n  <tbody>\n    <tr>\n      <th>0</th>\n      <td>C1305004711</td>\n      <td>2021-01-03</td>\n      <td>14070</td>\n    </tr>\n    <tr>\n      <th>1</th>\n      <td>C1016856028</td>\n      <td>2021-01-03</td>\n      <td>7192</td>\n    </tr>\n    <tr>\n      <th>2</th>\n      <td>C1215951090</td>\n      <td>2021-01-03</td>\n      <td>7767</td>\n    </tr>\n    <tr>\n      <th>3</th>\n      <td>C32393008</td>\n      <td>2021-01-03</td>\n      <td>8207</td>\n    </tr>\n    <tr>\n      <th>4</th>\n      <td>C1298380324</td>\n      <td>2021-01-03</td>\n      <td>14124</td>\n    </tr>\n    <tr>\n      <th>5</th>\n      <td>C577245010</td>\n      <td>2021-01-03</td>\n      <td>14910</td>\n    </tr>\n    <tr>\n      <th>6</th>\n      <td>C2028036437</td>\n      <td>2021-01-03</td>\n      <td>8665</td>\n    </tr>\n    <tr>\n      <th>7</th>\n      <td>C1298557761</td>\n      <td>2021-01-03</td>\n      <td>10694</td>\n    </tr>\n    <tr>\n      <th>8</th>\n      <td>C684230144</td>\n      <td>2021-01-03</td>\n      <td>14860</td>\n    </tr>\n    <tr>\n      <th>9</th>\n      <td>C990684641</td>\n      <td>2021-01-03</td>\n      <td>13035</td>\n    </tr>\n  </tbody>\n</table>\n</div>",
       "datasetInfos": [],
       "removedWidgets": [],
       "textData": "<div class=\"ansiout\">Out[82]: </div>",
       "type": "htmlSandbox"
      }
     },
     "output_type": "display_data"
    }
   ],
   "source": [
    "ws.get_feature_package('user_age_days').preview()"
   ]
  },
  {
   "cell_type": "markdown",
   "metadata": {
    "application/vnd.databricks.v1+cell": {
     "inputWidgets": {},
     "nuid": "d75e5641-0ada-48e4-92d4-bf4b6050a015",
     "showTitle": false,
     "title": ""
    }
   },
   "source": [
    "# Generate a Training Dataset"
   ]
  },
  {
   "cell_type": "markdown",
   "metadata": {
    "application/vnd.databricks.v1+cell": {
     "inputWidgets": {},
     "nuid": "123e6884-6726-4e01-a782-62b159366045",
     "showTitle": false,
     "title": ""
    }
   },
   "source": [
    "We're generating a *prediction context dataframe*, i.e. a dataframe from your data store that Tecton will join with data from the feature service we created. We need to \n",
    "pass at a minimum a *join key(s)*--the field(s) Tecton will use to match with a row of features in its feature store--and\n",
    "a *timestamp* when training, so Tecton knows at what time the label column (`isfraud` in our case) was valid.\n",
    "\n",
    "We can optionally pass additional columns (below those are the `amount`, and `type`s columns) that we expect to be passed at inference time to train and make predictions.\n",
    "\n",
    "In this case, we're querying our transactions database for the following fields:\n",
    "\n",
    "* `user_id`: our *join key*\n",
    "* `timestamp`: the timestamp to use when retrieving features. (Features can and do change for a given user_id over time, so we want to make sure we get the right features that were valid at this timestamp)\n",
    "* `isfraud`: this is our label, which was applied to this row at `timestamp` time.\n",
    "* `amount`, `type_cash_in`, etc.: additional features which will be joined and returned to us by Tecton without modification."
   ]
  },
  {
   "cell_type": "code",
   "execution_count": null,
   "metadata": {
    "application/vnd.databricks.v1+cell": {
     "inputWidgets": {},
     "nuid": "38494d12-0f38-486a-b459-6658785cac05",
     "showTitle": false,
     "title": ""
    }
   },
   "outputs": [
    {
     "data": {
      "text/html": [
       "<style scoped>\n",
       "  .ansiout {\n",
       "    display: block;\n",
       "    unicode-bidi: embed;\n",
       "    white-space: pre-wrap;\n",
       "    word-wrap: break-word;\n",
       "    word-break: break-all;\n",
       "    font-family: \"Source Code Pro\", \"Menlo\", monospace;;\n",
       "    font-size: 13px;\n",
       "    color: #555;\n",
       "    margin-left: 4px;\n",
       "    line-height: 19px;\n",
       "  }\n",
       "</style>\n",
       "<div class=\"ansiout\">Out[8]: DataFrame[user_id: string, isfraud: bigint, timestamp: timestamp, amount: double, type_cash_in: tinyint, type_cash_out: tinyint, type_debit: tinyint, type_payment: tinyint, type_transfer: tinyint]</div>"
      ]
     },
     "metadata": {
      "application/vnd.databricks.v1+output": {
       "addedWidgets": {},
       "arguments": {},
       "data": "<div class=\"ansiout\">Out[8]: DataFrame[user_id: string, isfraud: bigint, timestamp: timestamp, amount: double, type_cash_in: tinyint, type_cash_out: tinyint, type_debit: tinyint, type_payment: tinyint, type_transfer: tinyint]</div>",
       "datasetInfos": [
        {
         "name": "spine_df",
         "schema": {
          "fields": [
           {
            "metadata": {},
            "name": "user_id",
            "nullable": true,
            "type": "string"
           },
           {
            "metadata": {},
            "name": "isfraud",
            "nullable": true,
            "type": "long"
           },
           {
            "metadata": {},
            "name": "timestamp",
            "nullable": true,
            "type": "timestamp"
           },
           {
            "metadata": {},
            "name": "amount",
            "nullable": true,
            "type": "double"
           },
           {
            "metadata": {},
            "name": "type_cash_in",
            "nullable": true,
            "type": "byte"
           },
           {
            "metadata": {},
            "name": "type_cash_out",
            "nullable": true,
            "type": "byte"
           },
           {
            "metadata": {},
            "name": "type_debit",
            "nullable": true,
            "type": "byte"
           },
           {
            "metadata": {},
            "name": "type_payment",
            "nullable": true,
            "type": "byte"
           },
           {
            "metadata": {},
            "name": "type_transfer",
            "nullable": true,
            "type": "byte"
           }
          ],
          "type": "struct"
         },
         "tableIdentifier": null,
         "typeStr": "pyspark.sql.dataframe.DataFrame"
        }
       ],
       "removedWidgets": [],
       "type": "html"
      }
     },
     "output_type": "display_data"
    }
   ],
   "source": [
    "context_df = sqlContext.sql(\"\"\"\n",
    "SELECT \n",
    "  nameorig AS user_id,\n",
    "  isfraud,\n",
    "  timestamp,\n",
    "  amount,\n",
    "  type_cash_in,\n",
    "  type_cash_out,\n",
    "  type_debit,\n",
    "  type_payment,\n",
    "  type_transfer\n",
    "FROM fraud.fraud_transactions_pq\n",
    "SORT BY timestamp DESC\n",
    "LIMIT 200000\n",
    "\"\"\")\n",
    "spine_df.cache()"
   ]
  },
  {
   "cell_type": "markdown",
   "metadata": {
    "application/vnd.databricks.v1+cell": {
     "inputWidgets": {},
     "nuid": "9250d407-7bc1-466f-80f8-a50fed9f9dab",
     "showTitle": false,
     "title": ""
    }
   },
   "source": [
    "Let's take a look at what our context dataframe looks like."
   ]
  },
  {
   "cell_type": "code",
   "execution_count": null,
   "metadata": {
    "application/vnd.databricks.v1+cell": {
     "inputWidgets": {},
     "nuid": "d6fef57c-1b20-4adc-802b-a69cba3988b1",
     "showTitle": false,
     "title": ""
    }
   },
   "outputs": [
    {
     "data": {
      "text/html": [
       "<style scoped>\n",
       "  .table-result-container {\n",
       "    max-height: 300px;\n",
       "    overflow: auto;\n",
       "  }\n",
       "  table, th, td {\n",
       "    border: 1px solid black;\n",
       "    border-collapse: collapse;\n",
       "  }\n",
       "  th, td {\n",
       "    padding: 5px;\n",
       "  }\n",
       "  th {\n",
       "    text-align: left;\n",
       "  }\n",
       "</style><div class='table-result-container'><table class='table-result'><thead style='background-color: white'><tr><th>user_id</th><th>isfraud</th><th>timestamp</th><th>amount</th><th>type_cash_in</th><th>type_cash_out</th><th>type_debit</th><th>type_payment</th><th>type_transfer</th></tr></thead><tbody><tr><td>C65073211</td><td>0</td><td>2020-12-30T09:33:48.558+0000</td><td>202021.06</td><td>0</td><td>1</td><td>0</td><td>0</td><td>0</td></tr><tr><td>C958758156</td><td>0</td><td>2020-12-30T09:33:47.904+0000</td><td>417376.96</td><td>0</td><td>1</td><td>0</td><td>0</td><td>0</td></tr><tr><td>C180934013</td><td>0</td><td>2020-12-30T09:33:46.955+0000</td><td>291681.7</td><td>0</td><td>0</td><td>0</td><td>0</td><td>1</td></tr><tr><td>C695741309</td><td>0</td><td>2020-12-30T09:33:46.888+0000</td><td>113677.15</td><td>1</td><td>0</td><td>0</td><td>0</td><td>0</td></tr><tr><td>C229919283</td><td>0</td><td>2020-12-30T09:33:44.119+0000</td><td>626.07</td><td>0</td><td>0</td><td>0</td><td>1</td><td>0</td></tr><tr><td>C1958621893</td><td>0</td><td>2020-12-30T09:33:43.730+0000</td><td>5119.67</td><td>0</td><td>0</td><td>0</td><td>1</td><td>0</td></tr><tr><td>C1380271183</td><td>0</td><td>2020-12-30T09:33:40.163+0000</td><td>332163.2</td><td>0</td><td>1</td><td>0</td><td>0</td><td>0</td></tr><tr><td>C1554049844</td><td>0</td><td>2020-12-30T09:33:36.674+0000</td><td>10721.23</td><td>0</td><td>0</td><td>0</td><td>1</td><td>0</td></tr><tr><td>C1423238142</td><td>0</td><td>2020-12-30T09:33:36.128+0000</td><td>104510.4</td><td>0</td><td>1</td><td>0</td><td>0</td><td>0</td></tr><tr><td>C640929948</td><td>0</td><td>2020-12-30T09:33:33.398+0000</td><td>21011.3</td><td>0</td><td>0</td><td>0</td><td>1</td><td>0</td></tr></tbody></table></div>"
      ]
     },
     "metadata": {
      "application/vnd.databricks.v1+output": {
       "addedWidgets": {},
       "aggData": [],
       "aggError": "",
       "aggOverflow": false,
       "aggSchema": [],
       "aggSeriesLimitReached": false,
       "aggType": "",
       "arguments": {},
       "columnCustomDisplayInfos": {},
       "data": [
        [
         "C65073211",
         0,
         "2020-12-30T09:33:48.558+0000",
         202021.06,
         0,
         1,
         0,
         0,
         0
        ],
        [
         "C958758156",
         0,
         "2020-12-30T09:33:47.904+0000",
         417376.96,
         0,
         1,
         0,
         0,
         0
        ],
        [
         "C180934013",
         0,
         "2020-12-30T09:33:46.955+0000",
         291681.7,
         0,
         0,
         0,
         0,
         1
        ],
        [
         "C695741309",
         0,
         "2020-12-30T09:33:46.888+0000",
         113677.15,
         1,
         0,
         0,
         0,
         0
        ],
        [
         "C229919283",
         0,
         "2020-12-30T09:33:44.119+0000",
         626.07,
         0,
         0,
         0,
         1,
         0
        ],
        [
         "C1958621893",
         0,
         "2020-12-30T09:33:43.730+0000",
         5119.67,
         0,
         0,
         0,
         1,
         0
        ],
        [
         "C1380271183",
         0,
         "2020-12-30T09:33:40.163+0000",
         332163.2,
         0,
         1,
         0,
         0,
         0
        ],
        [
         "C1554049844",
         0,
         "2020-12-30T09:33:36.674+0000",
         10721.23,
         0,
         0,
         0,
         1,
         0
        ],
        [
         "C1423238142",
         0,
         "2020-12-30T09:33:36.128+0000",
         104510.4,
         0,
         1,
         0,
         0,
         0
        ],
        [
         "C640929948",
         0,
         "2020-12-30T09:33:33.398+0000",
         21011.3,
         0,
         0,
         0,
         1,
         0
        ]
       ],
       "datasetInfos": [],
       "dbfsResultPath": null,
       "isJsonSchema": true,
       "overflow": false,
       "plotOptions": {
        "customPlotOptions": {},
        "displayType": "table",
        "pivotAggregation": null,
        "pivotColumns": null,
        "xColumns": null,
        "yColumns": null
       },
       "removedWidgets": [],
       "schema": [
        {
         "metadata": "{}",
         "name": "user_id",
         "type": "\"string\""
        },
        {
         "metadata": "{}",
         "name": "isfraud",
         "type": "\"long\""
        },
        {
         "metadata": "{}",
         "name": "timestamp",
         "type": "\"timestamp\""
        },
        {
         "metadata": "{}",
         "name": "amount",
         "type": "\"double\""
        },
        {
         "metadata": "{}",
         "name": "type_cash_in",
         "type": "\"byte\""
        },
        {
         "metadata": "{}",
         "name": "type_cash_out",
         "type": "\"byte\""
        },
        {
         "metadata": "{}",
         "name": "type_debit",
         "type": "\"byte\""
        },
        {
         "metadata": "{}",
         "name": "type_payment",
         "type": "\"byte\""
        },
        {
         "metadata": "{}",
         "name": "type_transfer",
         "type": "\"byte\""
        }
       ],
       "type": "table"
      }
     },
     "output_type": "display_data"
    }
   ],
   "source": [
    "display(context_df.limit(10))"
   ]
  },
  {
   "cell_type": "code",
   "execution_count": null,
   "metadata": {
    "application/vnd.databricks.v1+cell": {
     "inputWidgets": {},
     "nuid": "4cf853b6-6512-4b15-9b7c-5dbdfc2bbb1d",
     "showTitle": false,
     "title": ""
    }
   },
   "outputs": [
    {
     "data": {
      "text/html": [
       "<style scoped>\n",
       "  .ansiout {\n",
       "    display: block;\n",
       "    unicode-bidi: embed;\n",
       "    white-space: pre-wrap;\n",
       "    word-wrap: break-word;\n",
       "    word-break: break-all;\n",
       "    font-family: \"Source Code Pro\", \"Menlo\", monospace;;\n",
       "    font-size: 13px;\n",
       "    color: #555;\n",
       "    margin-left: 4px;\n",
       "    line-height: 19px;\n",
       "  }\n",
       "</style>\n",
       "<div class=\"ansiout\"></div>"
      ]
     },
     "metadata": {
      "application/vnd.databricks.v1+output": {
       "addedWidgets": {},
       "arguments": {},
       "data": "<div class=\"ansiout\"></div>",
       "datasetInfos": [
        {
         "name": "training_data",
         "schema": {
          "fields": [
           {
            "metadata": {},
            "name": "user_id",
            "nullable": true,
            "type": "string"
           },
           {
            "metadata": {},
            "name": "isfraud",
            "nullable": true,
            "type": "long"
           },
           {
            "metadata": {},
            "name": "timestamp",
            "nullable": true,
            "type": "timestamp"
           },
           {
            "metadata": {},
            "name": "amount",
            "nullable": true,
            "type": "double"
           },
           {
            "metadata": {},
            "name": "type_cash_in",
            "nullable": true,
            "type": "byte"
           },
           {
            "metadata": {},
            "name": "type_cash_out",
            "nullable": true,
            "type": "byte"
           },
           {
            "metadata": {},
            "name": "type_debit",
            "nullable": true,
            "type": "byte"
           },
           {
            "metadata": {},
            "name": "type_payment",
            "nullable": true,
            "type": "byte"
           },
           {
            "metadata": {},
            "name": "type_transfer",
            "nullable": true,
            "type": "byte"
           },
           {
            "metadata": {},
            "name": "transaction_aggregates.transaction_sum_1h_1h",
            "nullable": true,
            "type": "long"
           },
           {
            "metadata": {},
            "name": "transaction_aggregates.transaction_sum_12h_1h",
            "nullable": true,
            "type": "long"
           },
           {
            "metadata": {},
            "name": "transaction_aggregates.transaction_sum_24h_1h",
            "nullable": true,
            "type": "long"
           },
           {
            "metadata": {},
            "name": "transaction_aggregates.transaction_sum_72h_1h",
            "nullable": true,
            "type": "long"
           },
           {
            "metadata": {},
            "name": "transaction_aggregates.transaction_sum_168h_1h",
            "nullable": true,
            "type": "long"
           },
           {
            "metadata": {},
            "name": "transaction_aggregates.transaction_sum_960h_1h",
            "nullable": true,
            "type": "long"
           },
           {
            "metadata": {},
            "name": "transaction_aggregates.amount_mean_1h_1h",
            "nullable": true,
            "type": "double"
           },
           {
            "metadata": {},
            "name": "transaction_aggregates.amount_mean_12h_1h",
            "nullable": true,
            "type": "double"
           },
           {
            "metadata": {},
            "name": "transaction_aggregates.amount_mean_24h_1h",
            "nullable": true,
            "type": "double"
           },
           {
            "metadata": {},
            "name": "transaction_aggregates.amount_mean_72h_1h",
            "nullable": true,
            "type": "double"
           },
           {
            "metadata": {},
            "name": "transaction_aggregates.amount_mean_168h_1h",
            "nullable": true,
            "type": "double"
           },
           {
            "metadata": {},
            "name": "transaction_aggregates.amount_mean_960h_1h",
            "nullable": true,
            "type": "double"
           },
           {
            "metadata": {},
            "name": "users_credit_score.credit_score",
            "nullable": true,
            "type": "long"
           },
           {
            "metadata": {},
            "name": "days_since_last_transaction.days_since_last",
            "nullable": true,
            "type": "integer"
           },
           {
            "metadata": {},
            "name": "user_age_days.age",
            "nullable": true,
            "type": "integer"
           }
          ],
          "type": "struct"
         },
         "tableIdentifier": null,
         "typeStr": "pyspark.sql.dataframe.DataFrame"
        }
       ],
       "removedWidgets": [],
       "type": "html"
      }
     },
     "output_type": "display_data"
    }
   ],
   "source": [
    "# Generate training data\n",
    "fs = ws.get_feature_service(\"fraud_prediction_service\")\n",
    "training_data = fs.get_feature_dataframe(context_df, timestamp_key=\"timestamp\").to_spark()"
   ]
  },
  {
   "cell_type": "markdown",
   "metadata": {
    "application/vnd.databricks.v1+cell": {
     "inputWidgets": {},
     "nuid": "28f3bec4-fd7f-407d-84d5-5ca735fb2d80",
     "showTitle": false,
     "title": ""
    }
   },
   "source": [
    "We've got a Spark dataframe and we can write it out to the destination of your choice, including flat files, database tables, etc. Here we write to a parquet file on S3: the below command assumes you've mounted an S3 bucket to `/mnt/tecton` using `dbutils.fs.mount()` or equivalent."
   ]
  },
  {
   "cell_type": "code",
   "execution_count": null,
   "metadata": {
    "application/vnd.databricks.v1+cell": {
     "inputWidgets": {},
     "nuid": "cb034735-491d-4231-a260-8cca1ab0bc6f",
     "showTitle": false,
     "title": ""
    }
   },
   "outputs": [
    {
     "data": {
      "text/html": [
       "<style scoped>\n",
       "  .ansiout {\n",
       "    display: block;\n",
       "    unicode-bidi: embed;\n",
       "    white-space: pre-wrap;\n",
       "    word-wrap: break-word;\n",
       "    word-break: break-all;\n",
       "    font-family: \"Source Code Pro\", \"Menlo\", monospace;;\n",
       "    font-size: 13px;\n",
       "    color: #555;\n",
       "    margin-left: 4px;\n",
       "    line-height: 19px;\n",
       "  }\n",
       "</style>\n",
       "<div class=\"ansiout\"></div>"
      ]
     },
     "metadata": {
      "application/vnd.databricks.v1+output": {
       "addedWidgets": {},
       "arguments": {},
       "data": "<div class=\"ansiout\"></div>",
       "datasetInfos": [],
       "removedWidgets": [],
       "type": "html"
      }
     },
     "output_type": "display_data"
    }
   ],
   "source": [
    "training_data.write.mode(\"overwrite\").parquet(f\"/mnt/tecton/fraud_dataset.parquet\")"
   ]
  },
  {
   "cell_type": "markdown",
   "metadata": {
    "application/vnd.databricks.v1+cell": {
     "inputWidgets": {},
     "nuid": "40c75c6f-19b3-40c4-b73a-d048674e65d8",
     "showTitle": false,
     "title": ""
    }
   },
   "source": [
    "## Next Step: Training\n",
    "\n",
    "That's it!  Check out `training.py` to see how you can load this training dataset in Databricks or in the Python environment of your choice, including Jupyter notebooks running on your local machine or SageMaker."
   ]
  }
 ],
 "metadata": {
  "application/vnd.databricks.v1+notebook": {
   "dashboards": [],
   "language": "python",
   "notebookName": "tecton-demo",
   "notebookOrigID": 1233042895181347,
   "widgets": {}
  },
  "kernelspec": {
   "display_name": "Python 3",
   "language": "python",
   "name": "python3"
  },
  "language_info": {
   "codemirror_mode": {
    "name": "ipython",
    "version": 3
   },
   "file_extension": ".py",
   "mimetype": "text/x-python",
   "name": "python",
   "nbconvert_exporter": "python",
   "pygments_lexer": "ipython3",
   "version": "3.7.10"
  }
 },
 "nbformat": 4,
 "nbformat_minor": 4
}
