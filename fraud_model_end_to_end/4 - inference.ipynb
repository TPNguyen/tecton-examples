{
 "cells": [
  {
   "cell_type": "markdown",
   "metadata": {
    "application/vnd.databricks.v1+cell": {
     "inputWidgets": {},
     "nuid": "98960d2a-90b6-4769-906a-84ce0441d901",
     "showTitle": false,
     "title": ""
    }
   },
   "source": [
    "<img style=\"float: right;\" src=\"https://2b838p24nks2163of0383y6z-wpengine.netdna-ssl.com/wp-content/uploads/2020/03/wordmark.png\" width=\"10%\"/>\n",
    "\n",
    "# Inference using Tecton\n",
    "\n",
    "In this section of the notebook, we'll load our fraud detection model from mlflow, layer in the transaction information we'll assume we're passed in (type of transaction and amount), and layer it with features about the user we retrieve from Tecton.\n",
    "\n",
    "Ordinarily, this would be running behind a REST API so you can do this inference in real time."
   ]
  },
  {
   "cell_type": "code",
   "execution_count": 7,
   "metadata": {
    "application/vnd.databricks.v1+cell": {
     "inputWidgets": {},
     "nuid": "b839d555-56dd-4c4d-a47d-9733085e3e06",
     "showTitle": false,
     "title": ""
    }
   },
   "outputs": [],
   "source": [
    "# Here, we import the tecton library and use its `get_feature_vector` convenience function, \n",
    "# but we can also save the import and issue an HTTP request directly to the Tecton endpoint\n",
    "import tecton\n",
    "import mlflow\n",
    "from dotenv import load_dotenv, find_dotenv\n",
    "import os\n",
    "import pandas as pd"
   ]
  },
  {
   "cell_type": "code",
   "execution_count": 8,
   "metadata": {},
   "outputs": [
    {
     "data": {
      "text/plain": [
       "True"
      ]
     },
     "execution_count": 8,
     "metadata": {},
     "output_type": "execute_result"
    }
   ],
   "source": [
    "# Load the TECTON_API_KEY from a .env file - in production you might\n",
    "# pass this in as an environment variable or use a secrets manager\n",
    "load_dotenv(find_dotenv())"
   ]
  },
  {
   "cell_type": "code",
   "execution_count": 9,
   "metadata": {
    "application/vnd.databricks.v1+cell": {
     "inputWidgets": {},
     "nuid": "7a5f2c2a-4afc-4cc6-90ae-358c7ac1ab97",
     "showTitle": false,
     "title": ""
    }
   },
   "outputs": [],
   "source": [
    "ws = tecton.get_workspace('prod')\n",
    "fs = tecton.get_feature_service('fraud_prediction_service')"
   ]
  },
  {
   "cell_type": "code",
   "execution_count": 10,
   "metadata": {},
   "outputs": [],
   "source": [
    "tecton_api_key = os.environ['TECTON_API_KEY']\n",
    "tecton.set_credentials(tecton_api_key)"
   ]
  },
  {
   "cell_type": "code",
   "execution_count": 12,
   "metadata": {
    "application/vnd.databricks.v1+cell": {
     "inputWidgets": {},
     "nuid": "45f62c71-eabe-4cb0-af70-e8d3e07b5946",
     "showTitle": false,
     "title": ""
    }
   },
   "outputs": [],
   "source": [
    "vec = fs.get_feature_vector(join_keys={\"user_id\": \"C1986564990\"}).to_pandas()"
   ]
  },
  {
   "cell_type": "markdown",
   "metadata": {
    "application/vnd.databricks.v1+cell": {
     "inputWidgets": {},
     "nuid": "07af654b-f3ae-4da9-9b58-763d0dc5503d",
     "showTitle": false,
     "title": ""
    }
   },
   "source": [
    "Here's what we get back from Tecton"
   ]
  },
  {
   "cell_type": "code",
   "execution_count": 13,
   "metadata": {
    "application/vnd.databricks.v1+cell": {
     "inputWidgets": {},
     "nuid": "226f733d-2f5e-4b21-b992-e691f995daaa",
     "showTitle": false,
     "title": ""
    }
   },
   "outputs": [
    {
     "data": {
      "text/html": [
       "<div>\n",
       "<style scoped>\n",
       "    .dataframe tbody tr th:only-of-type {\n",
       "        vertical-align: middle;\n",
       "    }\n",
       "\n",
       "    .dataframe tbody tr th {\n",
       "        vertical-align: top;\n",
       "    }\n",
       "\n",
       "    .dataframe thead th {\n",
       "        text-align: right;\n",
       "    }\n",
       "</style>\n",
       "<table border=\"1\" class=\"dataframe\">\n",
       "  <thead>\n",
       "    <tr style=\"text-align: right;\">\n",
       "      <th></th>\n",
       "      <th>0</th>\n",
       "    </tr>\n",
       "  </thead>\n",
       "  <tbody>\n",
       "    <tr>\n",
       "      <th>days_since_last_transaction.days_since_last</th>\n",
       "      <td>82</td>\n",
       "    </tr>\n",
       "    <tr>\n",
       "      <th>transaction_aggregates.amount_mean_12h_1h</th>\n",
       "      <td>None</td>\n",
       "    </tr>\n",
       "    <tr>\n",
       "      <th>transaction_aggregates.amount_mean_168h_1h</th>\n",
       "      <td>None</td>\n",
       "    </tr>\n",
       "    <tr>\n",
       "      <th>transaction_aggregates.amount_mean_1h_1h</th>\n",
       "      <td>None</td>\n",
       "    </tr>\n",
       "    <tr>\n",
       "      <th>transaction_aggregates.amount_mean_24h_1h</th>\n",
       "      <td>None</td>\n",
       "    </tr>\n",
       "    <tr>\n",
       "      <th>transaction_aggregates.amount_mean_72h_1h</th>\n",
       "      <td>None</td>\n",
       "    </tr>\n",
       "    <tr>\n",
       "      <th>transaction_aggregates.amount_mean_960h_1h</th>\n",
       "      <td>None</td>\n",
       "    </tr>\n",
       "    <tr>\n",
       "      <th>transaction_aggregates.transaction_sum_12h_1h</th>\n",
       "      <td>None</td>\n",
       "    </tr>\n",
       "    <tr>\n",
       "      <th>transaction_aggregates.transaction_sum_168h_1h</th>\n",
       "      <td>None</td>\n",
       "    </tr>\n",
       "    <tr>\n",
       "      <th>transaction_aggregates.transaction_sum_1h_1h</th>\n",
       "      <td>None</td>\n",
       "    </tr>\n",
       "    <tr>\n",
       "      <th>transaction_aggregates.transaction_sum_24h_1h</th>\n",
       "      <td>None</td>\n",
       "    </tr>\n",
       "    <tr>\n",
       "      <th>transaction_aggregates.transaction_sum_72h_1h</th>\n",
       "      <td>None</td>\n",
       "    </tr>\n",
       "    <tr>\n",
       "      <th>transaction_aggregates.transaction_sum_960h_1h</th>\n",
       "      <td>None</td>\n",
       "    </tr>\n",
       "    <tr>\n",
       "      <th>user_age_days.age</th>\n",
       "      <td>10477</td>\n",
       "    </tr>\n",
       "    <tr>\n",
       "      <th>users_credit_score.credit_score</th>\n",
       "      <td>None</td>\n",
       "    </tr>\n",
       "  </tbody>\n",
       "</table>\n",
       "</div>"
      ],
      "text/plain": [
       "                                                    0\n",
       "days_since_last_transaction.days_since_last        82\n",
       "transaction_aggregates.amount_mean_12h_1h        None\n",
       "transaction_aggregates.amount_mean_168h_1h       None\n",
       "transaction_aggregates.amount_mean_1h_1h         None\n",
       "transaction_aggregates.amount_mean_24h_1h        None\n",
       "transaction_aggregates.amount_mean_72h_1h        None\n",
       "transaction_aggregates.amount_mean_960h_1h       None\n",
       "transaction_aggregates.transaction_sum_12h_1h    None\n",
       "transaction_aggregates.transaction_sum_168h_1h   None\n",
       "transaction_aggregates.transaction_sum_1h_1h     None\n",
       "transaction_aggregates.transaction_sum_24h_1h    None\n",
       "transaction_aggregates.transaction_sum_72h_1h    None\n",
       "transaction_aggregates.transaction_sum_960h_1h   None\n",
       "user_age_days.age                               10477\n",
       "users_credit_score.credit_score                  None"
      ]
     },
     "execution_count": 13,
     "metadata": {},
     "output_type": "execute_result"
    }
   ],
   "source": [
    "vec.T"
   ]
  },
  {
   "cell_type": "code",
   "execution_count": 14,
   "metadata": {
    "application/vnd.databricks.v1+cell": {
     "inputWidgets": {},
     "nuid": "d648c5a0-a583-4a11-b790-ce9205cf1d43",
     "showTitle": false,
     "title": ""
    }
   },
   "outputs": [],
   "source": [
    "req_cols = pd.DataFrame({\n",
    "  'amount': 123.45,\n",
    "  'type_cash_in': True,\n",
    "  'type_cash_out': False,\n",
    "  'type_debit': False,\n",
    "  'type_payment': False,\n",
    "  'type_transfer': False\n",
    "}, index=[0])"
   ]
  },
  {
   "cell_type": "code",
   "execution_count": 15,
   "metadata": {
    "application/vnd.databricks.v1+cell": {
     "inputWidgets": {},
     "nuid": "159a7ef0-2598-4e0e-960b-0b3bb4e77893",
     "showTitle": false,
     "title": ""
    }
   },
   "outputs": [],
   "source": [
    "req = vec.merge(req_cols, left_index=True, right_index=True)"
   ]
  },
  {
   "cell_type": "code",
   "execution_count": 16,
   "metadata": {
    "application/vnd.databricks.v1+cell": {
     "inputWidgets": {},
     "nuid": "63b4f0ad-95df-47d8-8ad2-71dedf687075",
     "showTitle": false,
     "title": ""
    }
   },
   "outputs": [],
   "source": [
    "req_ordered = req[['amount', 'type_cash_in',\n",
    "       'type_cash_out', 'type_debit', 'type_payment', 'type_transfer',\n",
    "       'transaction_aggregates.transaction_sum_1h_1h',\n",
    "       'transaction_aggregates.transaction_sum_12h_1h',\n",
    "       'transaction_aggregates.transaction_sum_24h_1h',\n",
    "       'transaction_aggregates.transaction_sum_72h_1h',\n",
    "       'transaction_aggregates.transaction_sum_168h_1h',\n",
    "       'transaction_aggregates.transaction_sum_960h_1h',\n",
    "       'transaction_aggregates.amount_mean_1h_1h',\n",
    "       'transaction_aggregates.amount_mean_12h_1h',\n",
    "       'transaction_aggregates.amount_mean_24h_1h',\n",
    "       'transaction_aggregates.amount_mean_72h_1h',\n",
    "       'transaction_aggregates.amount_mean_168h_1h',\n",
    "       'transaction_aggregates.amount_mean_960h_1h',\n",
    "       'users_credit_score.credit_score',\n",
    "       'days_since_last_transaction.days_since_last', 'user_age_days.age']]"
   ]
  },
  {
   "cell_type": "markdown",
   "metadata": {
    "application/vnd.databricks.v1+cell": {
     "inputWidgets": {},
     "nuid": "03a0aee6-f5d0-4b5a-9886-91934b601a28",
     "showTitle": false,
     "title": ""
    }
   },
   "source": [
    "And here's the final vector we'll pass to the model, incorporating the additional features we were passed in (transaction type columns) \n",
    "and Tecton features about the user in the correct order"
   ]
  },
  {
   "cell_type": "code",
   "execution_count": 17,
   "metadata": {
    "application/vnd.databricks.v1+cell": {
     "inputWidgets": {},
     "nuid": "41f72d64-1e65-4e42-868d-10848cd836b9",
     "showTitle": false,
     "title": ""
    }
   },
   "outputs": [
    {
     "data": {
      "text/html": [
       "<div>\n",
       "<style scoped>\n",
       "    .dataframe tbody tr th:only-of-type {\n",
       "        vertical-align: middle;\n",
       "    }\n",
       "\n",
       "    .dataframe tbody tr th {\n",
       "        vertical-align: top;\n",
       "    }\n",
       "\n",
       "    .dataframe thead th {\n",
       "        text-align: right;\n",
       "    }\n",
       "</style>\n",
       "<table border=\"1\" class=\"dataframe\">\n",
       "  <thead>\n",
       "    <tr style=\"text-align: right;\">\n",
       "      <th></th>\n",
       "      <th>0</th>\n",
       "    </tr>\n",
       "  </thead>\n",
       "  <tbody>\n",
       "    <tr>\n",
       "      <th>amount</th>\n",
       "      <td>123.45</td>\n",
       "    </tr>\n",
       "    <tr>\n",
       "      <th>type_cash_in</th>\n",
       "      <td>True</td>\n",
       "    </tr>\n",
       "    <tr>\n",
       "      <th>type_cash_out</th>\n",
       "      <td>False</td>\n",
       "    </tr>\n",
       "    <tr>\n",
       "      <th>type_debit</th>\n",
       "      <td>False</td>\n",
       "    </tr>\n",
       "    <tr>\n",
       "      <th>type_payment</th>\n",
       "      <td>False</td>\n",
       "    </tr>\n",
       "    <tr>\n",
       "      <th>type_transfer</th>\n",
       "      <td>False</td>\n",
       "    </tr>\n",
       "    <tr>\n",
       "      <th>transaction_aggregates.transaction_sum_1h_1h</th>\n",
       "      <td>None</td>\n",
       "    </tr>\n",
       "    <tr>\n",
       "      <th>transaction_aggregates.transaction_sum_12h_1h</th>\n",
       "      <td>None</td>\n",
       "    </tr>\n",
       "    <tr>\n",
       "      <th>transaction_aggregates.transaction_sum_24h_1h</th>\n",
       "      <td>None</td>\n",
       "    </tr>\n",
       "    <tr>\n",
       "      <th>transaction_aggregates.transaction_sum_72h_1h</th>\n",
       "      <td>None</td>\n",
       "    </tr>\n",
       "    <tr>\n",
       "      <th>transaction_aggregates.transaction_sum_168h_1h</th>\n",
       "      <td>None</td>\n",
       "    </tr>\n",
       "    <tr>\n",
       "      <th>transaction_aggregates.transaction_sum_960h_1h</th>\n",
       "      <td>None</td>\n",
       "    </tr>\n",
       "    <tr>\n",
       "      <th>transaction_aggregates.amount_mean_1h_1h</th>\n",
       "      <td>None</td>\n",
       "    </tr>\n",
       "    <tr>\n",
       "      <th>transaction_aggregates.amount_mean_12h_1h</th>\n",
       "      <td>None</td>\n",
       "    </tr>\n",
       "    <tr>\n",
       "      <th>transaction_aggregates.amount_mean_24h_1h</th>\n",
       "      <td>None</td>\n",
       "    </tr>\n",
       "    <tr>\n",
       "      <th>transaction_aggregates.amount_mean_72h_1h</th>\n",
       "      <td>None</td>\n",
       "    </tr>\n",
       "    <tr>\n",
       "      <th>transaction_aggregates.amount_mean_168h_1h</th>\n",
       "      <td>None</td>\n",
       "    </tr>\n",
       "    <tr>\n",
       "      <th>transaction_aggregates.amount_mean_960h_1h</th>\n",
       "      <td>None</td>\n",
       "    </tr>\n",
       "    <tr>\n",
       "      <th>users_credit_score.credit_score</th>\n",
       "      <td>None</td>\n",
       "    </tr>\n",
       "    <tr>\n",
       "      <th>days_since_last_transaction.days_since_last</th>\n",
       "      <td>82</td>\n",
       "    </tr>\n",
       "    <tr>\n",
       "      <th>user_age_days.age</th>\n",
       "      <td>10477</td>\n",
       "    </tr>\n",
       "  </tbody>\n",
       "</table>\n",
       "</div>"
      ],
      "text/plain": [
       "                                                     0\n",
       "amount                                          123.45\n",
       "type_cash_in                                      True\n",
       "type_cash_out                                    False\n",
       "type_debit                                       False\n",
       "type_payment                                     False\n",
       "type_transfer                                    False\n",
       "transaction_aggregates.transaction_sum_1h_1h      None\n",
       "transaction_aggregates.transaction_sum_12h_1h     None\n",
       "transaction_aggregates.transaction_sum_24h_1h     None\n",
       "transaction_aggregates.transaction_sum_72h_1h     None\n",
       "transaction_aggregates.transaction_sum_168h_1h    None\n",
       "transaction_aggregates.transaction_sum_960h_1h    None\n",
       "transaction_aggregates.amount_mean_1h_1h          None\n",
       "transaction_aggregates.amount_mean_12h_1h         None\n",
       "transaction_aggregates.amount_mean_24h_1h         None\n",
       "transaction_aggregates.amount_mean_72h_1h         None\n",
       "transaction_aggregates.amount_mean_168h_1h        None\n",
       "transaction_aggregates.amount_mean_960h_1h        None\n",
       "users_credit_score.credit_score                   None\n",
       "days_since_last_transaction.days_since_last         82\n",
       "user_age_days.age                                10477"
      ]
     },
     "execution_count": 17,
     "metadata": {},
     "output_type": "execute_result"
    }
   ],
   "source": [
    "req_ordered.T"
   ]
  },
  {
   "cell_type": "markdown",
   "metadata": {},
   "source": [
    "As we load the model from databricks, you need to have all of the libraries installed that you use in your model, and using the same versions as well. You can see which versions are captured in your model by inspecting the `conda.yaml` file in your MLFlow run in your model directory under \"Artifacts\""
   ]
  },
  {
   "cell_type": "code",
   "execution_count": 19,
   "metadata": {
    "application/vnd.databricks.v1+cell": {
     "inputWidgets": {},
     "nuid": "953fdf82-339b-46b9-9d75-e135465876bf",
     "showTitle": false,
     "title": ""
    }
   },
   "outputs": [],
   "source": [
    "# We load the model from mlflow - in Databricks we transitioned the model trained above to \"production\" so we can specify that \n",
    "# stage below\n",
    "os.environ['MLFLOW_TRACKING_URI'] = 'databricks'\n",
    "model = mlflow.sklearn.load_model('models:/fraud_detection/Production')"
   ]
  },
  {
   "cell_type": "code",
   "execution_count": 20,
   "metadata": {
    "application/vnd.databricks.v1+cell": {
     "inputWidgets": {},
     "nuid": "3c0e21a0-e618-40be-bc1c-e4c66e07510f",
     "showTitle": false,
     "title": ""
    }
   },
   "outputs": [],
   "source": [
    "# Predict will return a dataframe. Since we only passed in one vector to predict, res will be length 1.\n",
    "res = model.predict(req_ordered)"
   ]
  },
  {
   "cell_type": "code",
   "execution_count": 21,
   "metadata": {
    "application/vnd.databricks.v1+cell": {
     "inputWidgets": {},
     "nuid": "43b1c42a-0b04-4da7-be2c-86b7379efee7",
     "showTitle": false,
     "title": ""
    }
   },
   "outputs": [
    {
     "data": {
      "text/plain": [
       "0"
      ]
     },
     "execution_count": 21,
     "metadata": {},
     "output_type": "execute_result"
    }
   ],
   "source": [
    "# This is the result of the prediction (0 = not fraud, 1 = fraud)\n",
    "res[0]"
   ]
  }
 ],
 "metadata": {
  "application/vnd.databricks.v1+notebook": {
   "dashboards": [],
   "language": "python",
   "notebookName": "twimlcon-demo (jack) (1)",
   "notebookOrigID": 3881804153370301,
   "widgets": {}
  },
  "kernelspec": {
   "display_name": "Python 3",
   "language": "python",
   "name": "python3"
  },
  "language_info": {
   "codemirror_mode": {
    "name": "ipython",
    "version": 3
   },
   "file_extension": ".py",
   "mimetype": "text/x-python",
   "name": "python",
   "nbconvert_exporter": "python",
   "pygments_lexer": "ipython3",
   "version": "3.7.10"
  }
 },
 "nbformat": 4,
 "nbformat_minor": 4
}
